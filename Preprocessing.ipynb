{
  "cells": [
    {
      "cell_type": "markdown",
      "metadata": {
        "id": "view-in-github",
        "colab_type": "text"
      },
      "source": [
        "<a href=\"https://colab.research.google.com/github/Pkemoi-Bett/Insider-Threat/blob/main/Preprocessing.ipynb\" target=\"_parent\"><img src=\"https://colab.research.google.com/assets/colab-badge.svg\" alt=\"Open In Colab\"/></a>"
      ]
    },
    {
      "cell_type": "code",
      "source": [
        "from google.colab import drive\n",
        "drive.mount(\"/content/drive\")"
      ],
      "metadata": {
        "colab": {
          "base_uri": "https://localhost:8080/"
        },
        "id": "_1bZIqfMJKIq",
        "outputId": "3dc58a51-b3b6-4c37-efe6-b12bb07f7a2a"
      },
      "id": "_1bZIqfMJKIq",
      "execution_count": 7,
      "outputs": [
        {
          "output_type": "stream",
          "name": "stdout",
          "text": [
            "Mounted at /content/drive\n"
          ]
        }
      ]
    },
    {
      "cell_type": "code",
      "source": [
        "file_path = '/content/drive/My Drive/Insider Threat dataset/CSVs'"
      ],
      "metadata": {
        "id": "UoYd9kDLJWaG"
      },
      "id": "UoYd9kDLJWaG",
      "execution_count": 16,
      "outputs": []
    },
    {
      "cell_type": "code",
      "source": [
        "#IMPORTS\n",
        "import pandas as pd\n",
        "import os\n",
        "from sklearn import preprocessing\n",
        "import time\n",
        "seconds = time.time()\n",
        "%matplotlib inline"
      ],
      "metadata": {
        "id": "soSPZfzpH1wP"
      },
      "id": "soSPZfzpH1wP",
      "execution_count": 17,
      "outputs": []
    },
    {
      "cell_type": "code",
      "source": [
        "#Starting the preprocessing\n",
        "print(\"This process might take sometime.\\n\\n\\n\")\n",
        "number = \"0123456789\""
      ],
      "metadata": {
        "colab": {
          "base_uri": "https://localhost:8080/"
        },
        "id": "8SNAmpnZH884",
        "outputId": "f1c97aec-8b77-415a-a101-84b6b57375fa"
      },
      "id": "8SNAmpnZH884",
      "execution_count": 18,
      "outputs": [
        {
          "output_type": "stream",
          "name": "stdout",
          "text": [
            "This process might take sometime.\n",
            "\n",
            "\n",
            "\n"
          ]
        }
      ]
    },
    {
      "cell_type": "code",
      "source": [
        "#All CSVs files names\n",
        "csv_files = [\"Monday-WorkingHours.pcap_ISCX\",\n",
        "             \"Tuesday-WorkingHours.pcap_ISCX\",\n",
        "             \"Wednesday-workingHours.pcap_ISCX\",\n",
        "             \"Thursday-WorkingHours-Morning-WebAttacks.pcap_ISCX\",\n",
        "             \"Thursday-WorkingHours-Afternoon-Infilteration.pcap_ISCX\",\n",
        "             \"Friday-WorkingHours-Morning.pcap_ISCX\",\n",
        "             \"Friday-WorkingHours-Afternoon-PortScan.pcap_ISCX\",\n",
        "             \"Friday-WorkingHours-Afternoon-DDos.pcap_ISCX\",]"
      ],
      "metadata": {
        "id": "jotcLz-eIFmy"
      },
      "id": "jotcLz-eIFmy",
      "execution_count": 24,
      "outputs": []
    },
    {
      "cell_type": "code",
      "source": [
        "#Headers of the columns\n",
        "main_labels = [\"Flow ID\",\"Source IP\",\"Source Port\",\"Destination IP\",\"Destination Port\",\"Protocol\",\"Timestamp\",\"Flow Duration\",\"Total Fwd Packets\",\n",
        "              \"Total Backward Packets\",\"Total Length of Fwd Packets\",\"Total Length of Bwd Packets\",\"Fwd Packet Length Max\",\"Fwd Packet Length Min\",\n",
        "              \"Fwd Packet Length Mean\",\"Fwd Packet Length Std\",\"Bwd Packet Length Max\",\"Bwd Packet Length Min\",\"Bwd Packet Length Mean\",\"Bwd Packet Length Std\",\n",
        "              \"Flow Bytes/s\",\"Flow Packets/s\",\"Flow IAT Mean\",\"Flow IAT Std\",\"Flow IAT Max\",\"Flow IAT Min\",\"Fwd IAT Total\",\"Fwd IAT Mean\",\"Fwd IAT Std\",\"Fwd IAT Max\",\n",
        "              \"Fwd IAT Min\",\"Bwd IAT Total\",\"Bwd IAT Mean\",\"Bwd IAT Std\",\"Bwd IAT Max\",\"Bwd IAT Min\",\"Fwd PSH Flags\",\"Bwd PSH Flags\",\"Fwd URG Flags\",\"Bwd URG Flags\",\n",
        "              \"Fwd Header Length\",\"Bwd Header Length\",\"Fwd Packets/s\",\"Bwd Packets/s\",\"Min Packet Length\",\"Max Packet Length\",\"Packet Length Mean\",\"Packet Length Std\",\n",
        "              \"Packet Length Variance\",\"FIN Flag Count\",\"SYN Flag Count\",\"RST Flag Count\",\"PSH Flag Count\",\"ACK Flag Count\",\"URG Flag Count\",\"CWE Flag Count\",\n",
        "              \"ECE Flag Count\",\"Down/Up Ratio\",\"Average Packet Size\",\"Avg Fwd Segment Size\",\"Avg Bwd Segment Size\",\"faulty-Fwd Header Length\",\"Fwd Avg Bytes/Bulk\",\n",
        "              \"Fwd Avg Packets/Bulk\",\"Fwd Avg Bulk Rate\",\"Bwd Avg Bytes/Bulk\",\"Bwd Avg Packets/Bulk\",\"Bwd Avg Bulk Rate\",\"Subflow Fwd Packets\",\"Subflow Fwd Bytes\",\n",
        "              \"Subflow Bwd Packets\",\"Subflow Bwd Bytes\",\"Init_Win_bytes_forward\",\"Init_Win_bytes_backward\",\"act_data_pkt_fwd\",\n",
        "              \"min_seg_size_forward\",\"Active Mean\",\"Active Std\",\"Active Max\",\"Active Min\",\"Idle Mean\",\"Idle Std\",\"Idle Max\",\"Idle Min\",\"Label\",\"External IP\"]\n",
        "main_labels2 = main_labels\n",
        "main_labels = (\",\".join(i for i in main_labels))\n",
        "main_labels = main_labels+\"\\n\"\n",
        "flag = True"
      ],
      "metadata": {
        "id": "Dpu19xL3IJH-"
      },
      "id": "Dpu19xL3IJH-",
      "execution_count": 25,
      "outputs": []
    },
    {
      "cell_type": "code",
      "source": [
        "!pip install chardet\n"
      ],
      "metadata": {
        "colab": {
          "base_uri": "https://localhost:8080/"
        },
        "id": "WeewQhteNjVp",
        "outputId": "4b3bbe6a-6d46-44c8-cc2b-32daeac9b1f3"
      },
      "id": "WeewQhteNjVp",
      "execution_count": 27,
      "outputs": [
        {
          "output_type": "stream",
          "name": "stdout",
          "text": [
            "Requirement already satisfied: chardet in /usr/local/lib/python3.10/dist-packages (5.2.0)\n"
          ]
        }
      ]
    },
    {
      "cell_type": "code",
      "source": [
        "import pandas as pd\n",
        "from sklearn import preprocessing\n",
        "import os\n",
        "\n",
        "file_path = '/content/drive/My Drive/Insider Threat dataset/CSVs/'\n",
        "\n",
        "# Assuming csv_files is a list of file names\n",
        "for i in range(len(csv_files)):\n",
        "    ths = open(str(i) + \".csv\", \"w\")\n",
        "    ths.write(main_labels)\n",
        "\n",
        "    with open(os.path.join(file_path, csv_files[i] + \".csv\"), \"r\",encoding='latin-1') as file:\n",
        "        for line in file:\n",
        "            try:\n",
        "                if line[0] in number:\n",
        "                    if \" – \" in line:\n",
        "                        line = line.replace(\" – \", \" - \")\n",
        "                    line = line.replace(\"inf\", \"0\")\n",
        "                    line = line.replace(\"Infinity\", \"0\")\n",
        "                    line = line.replace(\"NaN\", \"0\")\n",
        "                    ths.write(line)\n",
        "                else:\n",
        "                    continue\n",
        "            except:\n",
        "                break\n",
        "\n",
        "    ths.close()\n",
        "\n",
        "    df = pd.read_csv(str(i) + \".csv\", low_memory=False)\n",
        "    df = df.fillna(0)\n",
        "\n",
        "    string_features = [\"Flow Bytes/s\", \"Flow Packets/s\"]\n",
        "    df[string_features] = df[string_features].replace(['Infinity', 'NaN'], 0)\n",
        "\n",
        "    for ii in string_features:\n",
        "        df[ii] = pd.to_numeric(df[ii], errors='coerce').fillna(0)\n",
        "\n",
        "    string_features = [j for j in main_labels2 if df[j].dtype == \"object\"]\n",
        "\n",
        "    try:\n",
        "        string_features.remove('Label')\n",
        "    except ValueError:\n",
        "        print(\"Column 'Label' not found.\")\n",
        "\n",
        "    labelencoder_X = preprocessing.LabelEncoder()\n",
        "\n",
        "    # Convert numeric values to strings\n",
        "    df[string_features] = df[string_features].astype(str)\n",
        "\n",
        "    # Apply label encoding\n",
        "    df[string_features] = df[string_features].apply(labelencoder_X.fit_transform)\n",
        "\n",
        "\n",
        "\n"
      ],
      "metadata": {
        "id": "ijFbHTdYLlwV"
      },
      "id": "ijFbHTdYLlwV",
      "execution_count": 30,
      "outputs": []
    },
    {
      "cell_type": "code",
      "source": [],
      "metadata": {
        "id": "TU5Eg8o4Ow8u"
      },
      "id": "TU5Eg8o4Ow8u",
      "execution_count": null,
      "outputs": []
    }
  ],
  "metadata": {
    "kernelspec": {
      "display_name": "Python 3 (ipykernel)",
      "language": "python",
      "name": "python3"
    },
    "language_info": {
      "codemirror_mode": {
        "name": "ipython",
        "version": 3
      },
      "file_extension": ".py",
      "mimetype": "text/x-python",
      "name": "python",
      "nbconvert_exporter": "python",
      "pygments_lexer": "ipython3",
      "version": "3.11.6"
    },
    "colab": {
      "provenance": [],
      "include_colab_link": true
    }
  },
  "nbformat": 4,
  "nbformat_minor": 5
}